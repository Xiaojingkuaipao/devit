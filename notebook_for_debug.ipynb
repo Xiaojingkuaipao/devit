{
 "cells": [
  {
   "cell_type": "code",
   "id": "initial_id",
   "metadata": {
    "collapsed": true,
    "ExecuteTime": {
     "end_time": "2025-05-13T09:10:27.863454Z",
     "start_time": "2025-05-13T09:10:27.852998Z"
    }
   },
   "source": [
    "import os\n",
    "\n",
    "print(\"DETECTRON2_DATASETS:\", os.environ.get(\"DETECTRON2_DATASETS\"))"
   ],
   "outputs": [
    {
     "name": "stdout",
     "output_type": "stream",
     "text": [
      "DETECTRON2_DATASETS: None\n"
     ]
    }
   ],
   "execution_count": 4
  },
  {
   "metadata": {
    "ExecuteTime": {
     "end_time": "2025-05-13T09:10:27.939892Z",
     "start_time": "2025-05-13T09:10:27.933739Z"
    }
   },
   "cell_type": "code",
   "source": [
    "import torch\n",
    "init_scores = torch.rand((1024, 60), dtype=torch.float32, device=\"cuda\")\n",
    "topk_class_indices = torch.topk(init_scores, 10, dim=1)"
   ],
   "id": "75731dce6166110",
   "outputs": [],
   "execution_count": 5
  },
  {
   "metadata": {
    "ExecuteTime": {
     "end_time": "2025-05-13T09:10:28.023969Z",
     "start_time": "2025-05-13T09:10:28.008604Z"
    }
   },
   "cell_type": "code",
   "source": "topk_class_indices.indices",
   "id": "49a5e8f60fc1d8de",
   "outputs": [
    {
     "data": {
      "text/plain": [
       "tensor([[ 0,  3, 50,  ..., 37, 10,  1],\n",
       "        [14, 27, 47,  ..., 30, 29, 11],\n",
       "        [37, 54, 59,  ..., 16, 39, 21],\n",
       "        ...,\n",
       "        [40, 36,  2,  ..., 19, 22, 30],\n",
       "        [ 5,  7, 36,  ..., 39, 21, 42],\n",
       "        [43, 26, 36,  ..., 16, 44,  1]], device='cuda:0')"
      ]
     },
     "execution_count": 6,
     "metadata": {},
     "output_type": "execute_result"
    }
   ],
   "execution_count": 6
  },
  {
   "metadata": {
    "ExecuteTime": {
     "end_time": "2025-05-13T09:10:28.093620Z",
     "start_time": "2025-05-13T09:10:28.065859Z"
    }
   },
   "cell_type": "code",
   "source": "class_indices = torch.randint(0, 80,(1024, 10))",
   "id": "20161b69e1128e96",
   "outputs": [],
   "execution_count": 7
  },
  {
   "metadata": {
    "ExecuteTime": {
     "end_time": "2025-05-13T09:10:28.151837Z",
     "start_time": "2025-05-13T09:10:28.142454Z"
    }
   },
   "cell_type": "code",
   "source": "torch.sort(class_indices, dim=1).values",
   "id": "7a2dd2142c1d00f1",
   "outputs": [
    {
     "data": {
      "text/plain": [
       "tensor([[ 5, 13, 25,  ..., 61, 63, 70],\n",
       "        [28, 29, 44,  ..., 62, 66, 78],\n",
       "        [ 3,  6,  8,  ..., 65, 74, 78],\n",
       "        ...,\n",
       "        [ 0,  6,  6,  ..., 55, 58, 74],\n",
       "        [10, 23, 39,  ..., 63, 69, 72],\n",
       "        [ 0,  6, 13,  ..., 54, 63, 68]])"
      ]
     },
     "execution_count": 8,
     "metadata": {},
     "output_type": "execute_result"
    }
   ],
   "execution_count": 8
  },
  {
   "metadata": {
    "ExecuteTime": {
     "end_time": "2025-05-13T09:10:28.225389Z",
     "start_time": "2025-05-13T09:10:28.219569Z"
    }
   },
   "cell_type": "code",
   "source": "indexes = torch.tensor([0,1, 2, 3, 4])[None, None, :]",
   "id": "23a2911de750978",
   "outputs": [],
   "execution_count": 9
  },
  {
   "metadata": {
    "ExecuteTime": {
     "end_time": "2025-05-13T09:10:28.295605Z",
     "start_time": "2025-05-13T09:10:28.288493Z"
    }
   },
   "cell_type": "code",
   "source": "indexes.shape",
   "id": "5417cdcafc0cbefe",
   "outputs": [
    {
     "data": {
      "text/plain": [
       "torch.Size([1, 1, 5])"
      ]
     },
     "execution_count": 10,
     "metadata": {},
     "output_type": "execute_result"
    }
   ],
   "execution_count": 10
  },
  {
   "metadata": {
    "ExecuteTime": {
     "end_time": "2025-05-13T09:10:28.377691Z",
     "start_time": "2025-05-13T09:10:28.367043Z"
    }
   },
   "cell_type": "code",
   "source": "indexes",
   "id": "79edf06084e31bd",
   "outputs": [
    {
     "data": {
      "text/plain": [
       "tensor([[[0, 1, 2, 3, 4]]])"
      ]
     },
     "execution_count": 11,
     "metadata": {},
     "output_type": "execute_result"
    }
   ],
   "execution_count": 11
  },
  {
   "metadata": {
    "ExecuteTime": {
     "end_time": "2025-05-13T09:10:28.444144Z",
     "start_time": "2025-05-13T09:10:28.439180Z"
    }
   },
   "cell_type": "code",
   "source": "indexes = indexes.repeat(2,2,1)",
   "id": "c0f606732c95c526",
   "outputs": [],
   "execution_count": 12
  },
  {
   "metadata": {
    "ExecuteTime": {
     "end_time": "2025-05-13T09:10:28.524485Z",
     "start_time": "2025-05-13T09:10:28.515341Z"
    }
   },
   "cell_type": "code",
   "source": "indexes, indexes.shape",
   "id": "b941e9071c958dbd",
   "outputs": [
    {
     "data": {
      "text/plain": [
       "(tensor([[[0, 1, 2, 3, 4],\n",
       "          [0, 1, 2, 3, 4]],\n",
       " \n",
       "         [[0, 1, 2, 3, 4],\n",
       "          [0, 1, 2, 3, 4]]]),\n",
       " torch.Size([2, 2, 5]))"
      ]
     },
     "execution_count": 13,
     "metadata": {},
     "output_type": "execute_result"
    }
   ],
   "execution_count": 13
  },
  {
   "metadata": {
    "ExecuteTime": {
     "end_time": "2025-05-13T09:10:28.590863Z",
     "start_time": "2025-05-13T09:10:28.585377Z"
    }
   },
   "cell_type": "code",
   "source": "class_indices = torch.tensor([3, 5]).view(2, 1, 1)",
   "id": "13d3302803c75e62",
   "outputs": [],
   "execution_count": 14
  },
  {
   "metadata": {
    "ExecuteTime": {
     "end_time": "2025-05-13T09:10:28.655950Z",
     "start_time": "2025-05-13T09:10:28.650099Z"
    }
   },
   "cell_type": "code",
   "source": "class_indices",
   "id": "e9fa162ba806d2b9",
   "outputs": [
    {
     "data": {
      "text/plain": [
       "tensor([[[3]],\n",
       "\n",
       "        [[5]]])"
      ]
     },
     "execution_count": 15,
     "metadata": {},
     "output_type": "execute_result"
    }
   ],
   "execution_count": 15
  },
  {
   "metadata": {
    "ExecuteTime": {
     "end_time": "2025-05-13T09:10:28.707048Z",
     "start_time": "2025-05-13T09:10:28.697466Z"
    }
   },
   "cell_type": "code",
   "source": "indexes != class_indices",
   "id": "7d76c2359ff48d7c",
   "outputs": [
    {
     "data": {
      "text/plain": [
       "tensor([[[ True,  True,  True, False,  True],\n",
       "         [ True,  True,  True, False,  True]],\n",
       "\n",
       "        [[ True,  True,  True,  True,  True],\n",
       "         [ True,  True,  True,  True,  True]]])"
      ]
     },
     "execution_count": 16,
     "metadata": {},
     "output_type": "execute_result"
    }
   ],
   "execution_count": 16
  },
  {
   "metadata": {
    "ExecuteTime": {
     "end_time": "2025-05-13T09:11:43.132500Z",
     "start_time": "2025-05-13T09:11:43.083171Z"
    }
   },
   "cell_type": "code",
   "source": [
    "feat = torch.rand((1024, 49, 60))\n",
    "class_indices = torch.randint(0, 60, (1024, 10))\n",
    "class_indices.shape\n",
    "spatial_size = 49"
   ],
   "id": "10c8c8ef95a4e8d",
   "outputs": [],
   "execution_count": 19
  },
  {
   "metadata": {},
   "cell_type": "code",
   "outputs": [],
   "execution_count": null,
   "source": "intra_feats = torch.gather(feat, 2, class_indices[:, None, :].repeat(1, spatial_size, 1))",
   "id": "28985ac98e05b1cb"
  }
 ],
 "metadata": {
  "kernelspec": {
   "display_name": "Python 3",
   "language": "python",
   "name": "python3"
  },
  "language_info": {
   "codemirror_mode": {
    "name": "ipython",
    "version": 2
   },
   "file_extension": ".py",
   "mimetype": "text/x-python",
   "name": "python",
   "nbconvert_exporter": "python",
   "pygments_lexer": "ipython2",
   "version": "2.7.6"
  }
 },
 "nbformat": 4,
 "nbformat_minor": 5
}
